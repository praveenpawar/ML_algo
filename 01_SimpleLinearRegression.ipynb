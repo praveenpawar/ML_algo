{
 "cells": [
  {
   "cell_type": "markdown",
   "id": "618d7915",
   "metadata": {},
   "source": [
    "# Simple Linear Regression"
   ]
  },
  {
   "cell_type": "markdown",
   "id": "46ed838f",
   "metadata": {},
   "source": [
    "Supervised machine ML\n",
    "a) Regression b) Classification\n",
    "\n",
    "Ex. Suppose we have the dataset in which features are Play hours, Study hours and Result:Pass/Fail.\n",
    "in this Result:Pass/Fail feature is Dependent feature and other Play hours, Study hours are Independent feature.\n",
    "Becaure the Result feature value is dependent on the Play hours and study hours feature value.\n",
    "\n",
    "Problem statement: Need to Train the Model wherein prediction accuracy of output feature i.e Result:Pass/Fail should be high if we give the study_hours and Play_hours value to it.\n",
    "\n",
    "Here Output feature values are either Pass or Fail.\n",
    "\n",
    "These are categorical values in nature, since it is categorical values it is Classification problem statement.\n",
    "\n",
    "***********************************************************\n",
    "Regression: Whenever Output feature is continoues values, and\n",
    "Classification: Output feature is categorical values \n",
    "***********************************************************\n",
    "\n",
    "Now Lets take the another dataset: House price prediction\n",
    "Here we have HouseSize, NoOfRooms and Price are the feature. House Price is dependent feature as it depends on the other two Independent feature HouseSize, NoOfRooms. \n",
    "Output feature i.e. House Price values could be any numeric values ex. 150k, 250k etc.\n",
    "Due to numeric nature this becomes the Regression problem statement.\n",
    "\n",
    "__________________________________________________________________________________________\n",
    "\n",
    "AI/ML: Artificial Intelligence vs Machine Learning\n",
    "\n",
    "AI: Smart application that can perform its own task without any human intervention.\n",
    "example - Self driving cars, ChatGPT, Alexa etc.\n",
    "\n",
    "ML: Stats tool to perform explore, analyze, visualize and Perform predictions.\n",
    "example - Recommendation system, Weather predication, spam detection.\n",
    "\n",
    "DL: Deep learning is subset of machine learning. Mimic Human brain, Multilangual neural Network\n",
    "\n",
    "DS: Data science covers all above.\n",
    "\n",
    "___________________________________________________________________________________________\n",
    "\n",
    "\n",
    "Simple linear regression:\n",
    "\n",
    "\n",
    "\n",
    "\n"
   ]
  },
  {
   "cell_type": "code",
   "execution_count": null,
   "id": "96292559",
   "metadata": {},
   "outputs": [],
   "source": []
  }
 ],
 "metadata": {
  "kernelspec": {
   "display_name": "Python 3 (ipykernel)",
   "language": "python",
   "name": "python3"
  },
  "language_info": {
   "codemirror_mode": {
    "name": "ipython",
    "version": 3
   },
   "file_extension": ".py",
   "mimetype": "text/x-python",
   "name": "python",
   "nbconvert_exporter": "python",
   "pygments_lexer": "ipython3",
   "version": "3.9.13"
  }
 },
 "nbformat": 4,
 "nbformat_minor": 5
}
